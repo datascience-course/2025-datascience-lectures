{
 "cells": [
  {
   "cell_type": "markdown",
   "id": "170612c4",
   "metadata": {},
   "source": [
    "## Activity\n",
    "\n",
    "Explore the [Karate Club](https://networkx.org/documentation/stable/auto_examples/graph/plot_karate_club.html) network:\n",
    "\n",
    " * How many nodes, how many edges are in the network? \n",
    " * Are there nodes of high betweenness centrality? Visualize the network.\n",
    " * Remove the node with the highest centrality. How many components do you have?"
   ]
  },
  {
   "cell_type": "code",
   "execution_count": 2,
   "id": "b4ab1f50",
   "metadata": {},
   "outputs": [],
   "source": [
    "import networkx as nx\n",
    "import matplotlib.pyplot as plt\n",
    "%matplotlib inline\n",
    "plt.rcParams['figure.figsize'] = (10, 6)\n",
    "plt.style.use('ggplot')\n",
    "karate_club = nx.karate_club_graph()"
   ]
  },
  {
   "cell_type": "code",
   "execution_count": null,
   "id": "f6b1c3ef",
   "metadata": {},
   "outputs": [],
   "source": []
  }
 ],
 "metadata": {
  "kernelspec": {
   "display_name": "Python 3 (ipykernel)",
   "language": "python",
   "name": "python3"
  },
  "language_info": {
   "codemirror_mode": {
    "name": "ipython",
    "version": 3
   },
   "file_extension": ".py",
   "mimetype": "text/x-python",
   "name": "python",
   "nbconvert_exporter": "python",
   "pygments_lexer": "ipython3",
   "version": "3.9.6"
  }
 },
 "nbformat": 4,
 "nbformat_minor": 5
}
